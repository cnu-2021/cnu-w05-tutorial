{
 "cells": [
  {
   "cell_type": "markdown",
   "metadata": {},
   "source": [
    "# Week 5: Plotting with `matplotlib` & introduction to numerical integration\n",
    "\n",
    "This week, we introduce the `matplotlib` library and its `pyplot` submodule to create line and scatter plots in Python. We also take the first steps towards numerical methods used to estimate definite integrals numerically.\n",
    "\n",
    "The best way to learn programming is to write code. Don't hesitate to edit the code in the example cells, or add your own code, to test your understanding. You will find practice exercises throughout the notebook, denoted by 🚩 ***Exercise $x$:***.\n",
    "\n",
    "#### Displaying solutions\n",
    "\n",
    "Solutions will be released one week after the worksheets are released, as a new `.txt` file in the same GitHub repository. After pulling the file to your workspace (either your computer or your Noteable server), run the following cell to create clickable buttons under each exercise, which will allow you to reveal the solutions."
   ]
  },
  {
   "cell_type": "code",
   "execution_count": null,
   "metadata": {},
   "outputs": [],
   "source": [
    "%run scripts/create_widgets.py week05"
   ]
  },
  {
   "cell_type": "markdown",
   "metadata": {},
   "source": [
    "---\n",
    "### 📚 Book sections\n",
    "\n",
    "- **ASC**: sections **3.3**, 4.8.2, 6.1, 6.6\n",
    "- **PCP**: sections 1.6.1, 6 (introduction), 6.1\n",
    "\n",
    "🚩 Section **3.3** of **ASC** is highly recommended reading alongside the numerical integration section of this notebook.\n",
    "\n",
    "---\n",
    "## 1. Plotting with `matplotlib.pyplot`\n",
    "\n",
    "### 1.1. A first plot\n",
    "\n",
    "The `matplotlib` library and its `pyplot` interface contain a very large number of built-in functions for plotting data.\n",
    "\n",
    "We import the plotting tools with\n",
    "\n",
    "```python\n",
    "%matplotlib notebook\n",
    "import matplotlib.pyplot as plt\n",
    "```\n",
    "\n",
    "where the first command is a notebook-wide setting, which allows to generate **dynamic plots** inside the Jupyter notebook, which we can e.g. zoom into or further modify. (We can toggle back to the default behaviour using the command `%matplotlib inline`, where all plots are \"printed\" for good when they are created, and cannot be further modified.)\n",
    "\n",
    "A basic line plot is generated using the `plt.plot()` function. For example, to plot $x \\sin \\left( x \\right)$ for $x \\in \\left[ 0, 2 \\pi \\right]$:\n",
    "* first, create a reasonably large number of values of $x$ at which to plot the function, for example using `np.linspace()` from the Numpy module;\n",
    "* then, evaluate the function at these values;\n",
    "* finally, **create** a line plot with `plt.plot()`, and **display it** with `plt.show()`."
   ]
  },
  {
   "cell_type": "code",
   "execution_count": null,
   "metadata": {},
   "outputs": [],
   "source": [
    "import numpy as np\n",
    "\n",
    "%matplotlib notebook\n",
    "import matplotlib.pyplot as plt\n",
    "\n",
    "# Create an x-axis with 1000 points\n",
    "x = np.linspace(0., 2*np.pi, 1000)\n",
    "\n",
    "# Evaluate the function at all these points\n",
    "y = x * np.sin(x)\n",
    "\n",
    "# Create the plot and display it\n",
    "plt.plot(x, y, 'k-')\n",
    "plt.show()"
   ]
  },
  {
   "cell_type": "markdown",
   "metadata": {},
   "source": [
    "The final argument of `plt.plot()` defines the line colour and line type: here `'k'` indicates black, and `'-'` indicates a solid line.\n",
    "\n",
    "The `plt.plot()` function can be used to generate scatter plots by replacing the character indicating the line style (for example `-` for a solid line) with a symbol to indicate a marker style. For example\n",
    "\n",
    "```python\n",
    "plt.plot(x, y, 'kx')\n",
    "```\n",
    "\n",
    "plots a scatter plot with black crosses. Here the `x` character in the final argument indicates the marker type.\n",
    "    \n",
    "---\n",
    "**📚 Learn more:**\n",
    "* [Matplotlib: Python plotting](https://matplotlib.org/contents.html) - Matplotlib documentation\n",
    "* [Matplotlib gallery](https://matplotlib.org/gallery/index.html)\n",
    "* [Pyplot tutorial](https://matplotlib.org/tutorials/introductory/pyplot.html) - Matplotlib documentation\n",
    "* [Matplotlib line style reference](https://matplotlib.org/gallery/lines_bars_and_markers/line_styles_reference.html)\n",
    "* [Matplotlib: Specifying Colors](https://matplotlib.org/users/colors.html) - Matplotlib documentation\n",
    "* [Matplotlib: markers](https://matplotlib.org/api/markers_api.html) - Matplotlib documentation\n",
    "* [numpy.linspace](https://docs.scipy.org/doc/numpy/reference/generated/numpy.linspace.html) - Numpy documentation\n",
    "* [Chapter 4: Visualization with Matplotlib](https://jakevdp.github.io/PythonDataScienceHandbook/#4.-Visualization-with-Matplotlib) - J. VanderPlas, *The Python Data Science Handbook*\n",
    "\n",
    "---\n",
    "\n",
    "When plotting functions you should ensure that you evaluate the function at a sufficient number of points (typically at least $100$). `plt.plot(x, y)` draws one point per element in `x` and `y` (coordinates (`x[0], y[0]`), (`x[1], y[1]`), etc.), and joins these points with straight lines; a line plot therefore only looks smooth if the grid of points is dense enough. Try replacing `1000` with `10` in the code cell above to see this.\n",
    "\n",
    "---\n",
    "🚩 ***Exercise 1:*** Click on the 'Stop interaction' blue button in the plot above (we will see why later). Then, plot the following functions on the interval $x \\in \\left[ -\\pi, \\pi \\right]$. Try different line colours and types. Don't forget to `import matplotlib.pyplot`, or to run the previous example cell to import it.\n",
    "* a) $f_1(x) = \\sin \\left( x \\right)$,  \n",
    "* b) $f_2(x) = \\tan \\left( \\frac{49}{100} x \\right)$,  \n",
    "* c) $f_3(x) = \\sin \\left( x \\right) \\cos \\left( 2 x \\right)$."
   ]
  },
  {
   "cell_type": "code",
   "execution_count": null,
   "metadata": {},
   "outputs": [],
   "source": []
  },
  {
   "cell_type": "code",
   "execution_count": null,
   "metadata": {},
   "outputs": [],
   "source": [
    "%run scripts/show_solutions.py week05_ex1"
   ]
  },
  {
   "cell_type": "markdown",
   "metadata": {},
   "source": [
    "---\n",
    "### 1.2. Figures and axes as objects\n",
    "\n",
    "By default, if no plot exists, `plt.plot()` creates a *figure* window, and adds a set of *axes* to the figure. If a set of axes has already been created, when running `plt.plot()` a second time, the same axes are re-used, and the second plot is drawn over the first one. (If you didn't click the 'Stop interaction' button earlier, your plots in the first exercise will have appeared on top of the first example plot!)\n",
    "\n",
    "Like everything in Python, figures and axes are **objects**. The `plt.subplots()` function can used to create a new figure object, along with one or more set(s) of axes inside it. The statement\n",
    "\n",
    "```python\n",
    "fig, ax = plt.subplots(m, n)\n",
    "```\n",
    "\n",
    "creates a figure object, which we assign to the variable `fig`, and an array of axes, assigned to the variable `ax`, tiled in `m` rows and `n` columns. Try it:"
   ]
  },
  {
   "cell_type": "code",
   "execution_count": null,
   "metadata": {},
   "outputs": [],
   "source": [
    "import numpy as np\n",
    "import matplotlib.pyplot as plt\n",
    "\n",
    "# Define x\n",
    "x = np.linspace(0, 2*np.pi, 1000)\n",
    "\n",
    "# Create figure and axes\n",
    "fig_1, ax_1 = plt.subplots(2, 3)\n",
    "\n",
    "# We can also create a second figure, with the optional\n",
    "# \"figsize\" argument of plt.subplots()\n",
    "fig_2, ax_2 = plt.subplots(1, 4, figsize=(7, 2))\n",
    "\n",
    "plt.show()"
   ]
  },
  {
   "cell_type": "markdown",
   "metadata": {},
   "source": [
    "Now, we can select individual axes in the array, and use `.plot()` as before (this time, as a **method** of the `Axes` object):"
   ]
  },
  {
   "cell_type": "code",
   "execution_count": null,
   "metadata": {},
   "outputs": [],
   "source": [
    "# Plot on 1st row, 2nd column of the first figure\n",
    "ax_1[0, 1].plot(x, np.sin(x), 'm-')\n",
    "\n",
    "# Plot on 2nd row, 3rd column\n",
    "ax_1[1, 2].plot(x, np.cos(x), 'c-')\n",
    "\n",
    "# Plot on 4th plot of the second figure\n",
    "ax_2[3].plot(x, np.sinc(x), 'g-.')\n",
    "\n",
    "# Update the display\n",
    "plt.show()"
   ]
  },
  {
   "cell_type": "markdown",
   "metadata": {},
   "source": [
    "Remember to scroll up to see these changes on the first figure (as we plotted on `ax_1`). Try changing the axes onto which these appear (for instance, try the second set of axes in the second figure).\n",
    "\n",
    "Note that, when using `plt.subplots(m, n)` with `m` or `n` equal to `1` (that is, when creating a **single** row or column of plots), as is the case for `ax_2`, you only need **one index** to access a given subplot.\n",
    "\n",
    "---\n",
    "**📚 Learn more:**\n",
    "* [Matplotlib Usage Guide: Parts of a figure](https://matplotlib.org/tutorials/introductory/usage.html#parts-of-a-figure) -- **highly recommended read!**\n",
    "\n",
    "---\n",
    "\n",
    "🚩 ***Exercise 2:*** Use the `plt.subplots` function to plot the three functions in the previous exercise in one figure, with a different subplot for each."
   ]
  },
  {
   "cell_type": "code",
   "execution_count": null,
   "metadata": {},
   "outputs": [],
   "source": []
  },
  {
   "cell_type": "code",
   "execution_count": null,
   "metadata": {
    "tags": [
     "solution_cell"
    ]
   },
   "outputs": [],
   "source": [
    "%run scripts/show_solutions.py week05_ex2"
   ]
  },
  {
   "cell_type": "markdown",
   "metadata": {},
   "source": [
    "---\n",
    "## 2. Formatting plots\n",
    "\n",
    "### 2.1. Setting plot axis properties\n",
    "\n",
    "#### Axis limits\n",
    "\n",
    "The axis range on your plots can be controlled using the `.set_xlim()` and `.set_ylim()` methods. For example, the following code plots the function $\\sin \\left( x \\right)$ for $x \\in \\left[ 0, 2 \\pi \\right]$ on the `Axes` object assigned to the variable `my_ax`, and then specifies that the $x$-axis range should be from $0$ to $2 \\pi$, and the $y$-axis range should be from $-1.1$ to $1.1$."
   ]
  },
  {
   "cell_type": "code",
   "execution_count": null,
   "metadata": {},
   "outputs": [],
   "source": [
    "# Create 100 x-values from 0 to 2*pi\n",
    "x = np.linspace(0, 2*np.pi, 100)\n",
    "\n",
    "# Create the figure and axes\n",
    "my_fig, my_ax = plt.subplots()\n",
    "\n",
    "# Plot sin(x)\n",
    "my_ax.plot(x, np.sin(x), 'k-')\n",
    "\n",
    "# Adjust the x-axis and y-axis limits to tidy up the plot\n",
    "my_ax.set_xlim([0, 2*np.pi])\n",
    "my_ax.set_ylim([-1.1, 1.1])\n",
    "\n",
    "# Show the figure\n",
    "plt.show()"
   ]
  },
  {
   "cell_type": "markdown",
   "metadata": {},
   "source": [
    "#### Axis labels\n",
    "\n",
    "Axis labels can be added using the `.set_xlabel()` and `.set_ylabel()` methods, for example\n",
    "\n",
    "```python\n",
    "ax.set_xlabel('x', fontsize=12)\n",
    "```\n",
    "\n",
    "The label is the first argument, a string. The additional argument, `fontsize=12`, is used to control the font size of the axis label, here setting the font size to $12$pt.  If you wish you can use LaTeX in axis labels via\n",
    "\n",
    "```python\n",
    "ax.set_xlabel(r'$x$', fontsize=12)\n",
    "```\n",
    "\n",
    "where the `r` before the label means \"raw string\"; this allows backslashes in e.g. LaTeX math symbols to be interpreted correctly.\n",
    "\n",
    "> Plots should **always** include appropriate labelling!\n",
    "\n",
    "---\n",
    "🚩 ***Exercise 3:*** Start by running your code for Exercise 2, to create the 3 plots again. Use `set_xlim()` to control the $x$-axis range for each of the 3 plots, plotting values of $x \\in \\left[-\\pi, \\pi \\right]$.\n",
    "\n",
    "Use `set_xlabel()` and `set_ylabel()` to add axis labels to the plots, with a font size of $14$pt.\n",
    "\n",
    "*Hints:*\n",
    "* If the plot becomes a little squeezed, you can adjust the *spacing* between the subplots in a figure after you have created them, using the function `plt.subplots_adjust()`, for example\n",
    "```python\n",
    "plt.subplots_adjust(hspace=0.5, wspace=0.5)\n",
    "```\n",
    "where `hspace` (height spacing) and `wspace` (width spacing) should take values between 0 and 1. (See [Matplotlib: subplots_adjust](https://matplotlib.org/api/_as_gen/matplotlib.pyplot.subplots_adjust.html))\n",
    "* Since the axes are indexed by number, you can use a `for` loop to set properties common to all axes."
   ]
  },
  {
   "cell_type": "code",
   "execution_count": null,
   "metadata": {},
   "outputs": [],
   "source": []
  },
  {
   "cell_type": "code",
   "execution_count": null,
   "metadata": {
    "tags": [
     "solution_cell"
    ]
   },
   "outputs": [],
   "source": [
    "%run scripts/show_solutions.py week05_ex3"
   ]
  },
  {
   "cell_type": "markdown",
   "metadata": {},
   "source": [
    "---\n",
    "### 2.2. Adding a legend\n",
    "\n",
    "Earlier, we have seen how to display multiple lines on the same set of axes. When doing so, it is essential to add a legend to the plot, using **`ax.legend()`**, which labels all curves of the plot in `ax`. The label text should be set **when plotting the curve**, using the `label=` keyword argument of `.plot()`, and can contain LaTeX code.\n",
    "\n",
    "For example, the following code displays a legend on `ax` with the green curve labelled $y_1$ and the yellow curve labelled $y_2$."
   ]
  },
  {
   "cell_type": "code",
   "execution_count": null,
   "metadata": {},
   "outputs": [],
   "source": [
    "# Create an x-axis, and make 2 linear functions of x\n",
    "x = np.linspace(-3, 3, 100)\n",
    "y1 = 3*x - 2\n",
    "y2 = -0.5*x + 1.5\n",
    "\n",
    "# Plot both curves on the same axes\n",
    "fig, ax = plt.subplots()\n",
    "ax.plot(x, y1, 'g-', label=r'$y_1$')\n",
    "ax.plot(x, y2, 'y-', label=r'$y_2$')\n",
    "\n",
    "# .legend() will use the \"label\" arguments for each curve\n",
    "ax.legend(loc='lower right', fontsize=14)\n",
    "\n",
    "plt.show()"
   ]
  },
  {
   "cell_type": "markdown",
   "metadata": {},
   "source": [
    "Note that the **location** can be controlled via an additional keyword argument `loc`, followed by a string indicating the location. Other locations can be chosen, for example you can try changing `'lower right'` to `'upper left'`.\n",
    "\n",
    "The legend font size is also controlled the same way as for axis labels, e.g. here the font size is set to $14$.\n",
    "\n",
    "---\n",
    "**📚 Learn more:**\n",
    "* [Matplotlib: legend](https://matplotlib.org/api/_as_gen/matplotlib.pyplot.legend.html) - Documentation\n",
    "* [Customizing Plot Legends](https://jakevdp.github.io/PythonDataScienceHandbook/04.06-customizing-legends.html) - The Python Data Science Handbook\n",
    "\n",
    "---\n",
    "🚩 ***Exercise 4:*** The Maclaurin series for $\\cos(x)$ is given by\n",
    "\n",
    "$$\n",
    "\\cos(x) = \\sum_{k=0}^{\\infty} (-1)^k \\frac{x^{2k}}{(2k)!}.\n",
    "$$\n",
    "\n",
    "Create a new figure with a single set of axes. Plot $\\cos(x)$ over the interval $[-\\pi, \\pi]$. On the same axes, plot the Maclaurin series truncated to the second, fourth, and sixth order terms, evaluated over the same interval. Set the axis ranges and labels, and add a legend to the plot.\n",
    "\n",
    "*Hint:* you may wish to use the function [`math.factorial()` included with the `math` module](https://docs.python.org/3/library/math.html)."
   ]
  },
  {
   "cell_type": "code",
   "execution_count": null,
   "metadata": {},
   "outputs": [],
   "source": []
  },
  {
   "cell_type": "code",
   "execution_count": null,
   "metadata": {
    "tags": [
     "solution_cell"
    ]
   },
   "outputs": [],
   "source": [
    "%run scripts/show_solutions.py week05_ex4"
   ]
  },
  {
   "cell_type": "markdown",
   "metadata": {},
   "source": [
    "---\n",
    "🚩 ***Exercise 5:*** Reproduce the following figure, as closely as possible. (Note: the triangles are called \"markers\" -- you can search for that in the documentation.)\n",
    "\n",
    "![The figure to reproduce.](graphics/fig.png)"
   ]
  },
  {
   "cell_type": "code",
   "execution_count": null,
   "metadata": {},
   "outputs": [],
   "source": []
  },
  {
   "cell_type": "code",
   "execution_count": null,
   "metadata": {
    "tags": [
     "solution_cell"
    ]
   },
   "outputs": [],
   "source": [
    "%run scripts/show_solutions.py week05_ex5"
   ]
  },
  {
   "cell_type": "markdown",
   "metadata": {},
   "source": [
    "## 3. Numerical integration\n",
    "\n",
    "🚩 *Recommended reading:* Section 3.3 in **ASC**\n",
    "\n",
    "Numerical integration is the process of computing an approximation of a definite integral, using a particular *scheme*. There are many different ways we could go about this, but in general, we want to approximate an integral using a **weighted sum** which is easy to compute:\n",
    "\n",
    "$$\n",
    "\\int_a^b f(x) \\ dx \\approx \\sum_{k=0}^{N-1} w_k f(x_k),\n",
    "$$\n",
    "\n",
    "where\n",
    "- $x_k \\in [a, b]$ are **nodes**, i.e. a finite number of points chosen in the integration interval,\n",
    "- $w_k \\in \\mathbb{R}$ are **weights** (coefficients) chosen appropriately.\n",
    "\n",
    "The choice of nodes and weights differentiates one numerical integration method from another, and different choices lead to different *degrees of precision*. We will see more about this next week.\n",
    "\n",
    "### 3.1. Riemann sums\n",
    "\n",
    "You probably already know a numerical integration method -- the Riemann sum. Run the code cell below to display a figure (it uses [`matplotlib.patches.Rectangle()`](https://matplotlib.org/api/_as_gen/matplotlib.patches.Rectangle.html)):"
   ]
  },
  {
   "cell_type": "code",
   "execution_count": null,
   "metadata": {},
   "outputs": [],
   "source": [
    "%matplotlib notebook\n",
    "import matplotlib.pyplot as plt\n",
    "import matplotlib.patches as patches\n",
    "import numpy as np\n",
    "\n",
    "def f(x):\n",
    "    return np.exp(-x**2)\n",
    "\n",
    "# Create an x-axis with 100 points and estimate the function\n",
    "a, b = 0, 3\n",
    "x_plot = np.linspace(a, b, 100)\n",
    "f_plot = f(x_plot)\n",
    "\n",
    "# Create the nodes\n",
    "N = 10\n",
    "x_node = np.linspace(a, b, N+1)\n",
    "f_node = f(x_node)\n",
    "\n",
    "# Plot the function\n",
    "fig, ax = plt.subplots(1, 2, figsize=(9, 3))\n",
    "\n",
    "ax[0].plot(x_plot, f_plot, 'k-')\n",
    "ax[1].plot(x_plot, f_plot, 'k-')\n",
    "\n",
    "# Plot the rectangles for left and right sums\n",
    "h = (b - a) / N\n",
    "for k in range(N):\n",
    "    rect = patches.Rectangle((x_node[k], 0), h, f_node[k], edgecolor='k')\n",
    "    ax[0].add_patch(rect)\n",
    "    \n",
    "    rect = patches.Rectangle((x_node[k], 0), h, f_node[k+1], edgecolor='k')\n",
    "    ax[1].add_patch(rect)\n",
    "    \n",
    "    \n",
    "# Plot the nodes\n",
    "ax[0].plot(x_node[:-1], f_node[:-1], 'rx')\n",
    "ax[1].plot(x_node[1:], f_node[1:], 'rx')\n",
    "\n",
    "# Label the plots\n",
    "ax[0].set_xlabel(r'$x$')\n",
    "ax[1].set_xlabel(r'$x$')\n",
    "ax[0].set_ylabel(r'$f(x)$')\n",
    "\n",
    "ax[0].set_title('Left Riemann sum')\n",
    "ax[1].set_title('Right Riemann sum')\n",
    "\n",
    "plt.show()"
   ]
  },
  {
   "cell_type": "markdown",
   "metadata": {},
   "source": [
    "We can estimate the integral of $f(x)$ by calculating the area shaded in blue. Here, we subdivide the interval $[a, b]$ into $N$ partitions of equal width $h$:\n",
    "\n",
    "$$\n",
    "h = \\frac{b-a}{N}\n",
    "$$\n",
    "\n",
    "The **nodes** are the end points of these sub-intervals, and here the **weights** are simply $h$, the width of each interval. The integral of $f(x)$ between $a$ and $b$ can then be estimated as:\n",
    "\n",
    "$$\n",
    "\\begin{align}\n",
    "\\int_a^b f(x) \\ dx &\\approx \\sum_{k=0}^{N-1} h \\ f(x_k), \\quad & \\text{left Riemann sum} \\\\\n",
    "\\int_a^b f(x) \\ dx &\\approx \\sum_{k=1}^N h \\ f(x_k), \\quad & \\text{right Riemann sum}\n",
    "\\end{align}\n",
    "$$\n",
    "\n",
    "where the $N+1$ nodes $x_k$ are given by $x_k = a + kh$, with $k = 0, 1, \\dots, N$. With this choice of nodes and weights, each element of the sum is simply the area of one blue rectangle."
   ]
  },
  {
   "cell_type": "code",
   "execution_count": null,
   "metadata": {},
   "outputs": [],
   "source": [
    "from math import erf\n",
    "\n",
    "# Estimate the integral\n",
    "left_I = np.sum(h * f_node[:-1])\n",
    "right_I = np.sum(h * f_node[1:])\n",
    "\n",
    "# Exact value\n",
    "I_exact = np.sqrt(np.pi) / 2 * (erf(b) - erf(a))\n",
    "\n",
    "print(f'The exact integral is {I_exact:.3f}.\\n')\n",
    "print(f'The left Riemann sum is {left_I:.3f}.\\n')\n",
    "print(f'The right Riemann sum is {right_I:.3f}.\\n')"
   ]
  },
  {
   "cell_type": "markdown",
   "metadata": {},
   "source": [
    "---\n",
    "🚩 ***Exercise 6:*** Using the Riemann sum methods above, estimate the value of the integral using different values of $N$. How does the accuracy change with $N$?\n",
    "\n",
    "*Hint:* plot $\\log(N)$ vs. $\\log(\\text{error})$. You may wish to use e.g. [`np.polyfit()`](https://numpy.org/doc/stable/reference/generated/numpy.polyfit.html) or [`scipy.stats.linregress()`](https://docs.scipy.org/doc/scipy/reference/generated/scipy.stats.linregress.html)."
   ]
  },
  {
   "cell_type": "code",
   "execution_count": null,
   "metadata": {},
   "outputs": [],
   "source": []
  },
  {
   "cell_type": "code",
   "execution_count": null,
   "metadata": {
    "tags": [
     "solution_cell"
    ]
   },
   "outputs": [],
   "source": [
    "%run scripts/show_solutions.py week05_ex6"
   ]
  },
  {
   "cell_type": "markdown",
   "metadata": {},
   "source": [
    "---\n",
    "### 3.2. The midpoint rule\n",
    "\n",
    "The midpoint rule is similar to the Riemann sums, but the nodes are taken as the **midpoint** of each partition instead of one of the extremities:\n",
    "\n",
    "$$\n",
    "\\int_a^b f(x) \\ dx \\approx \\sum_{k=0}^{N-1} h \\ f(x_k),\n",
    "$$\n",
    "\n",
    "where the nodes $x_k$ are given by $x_k = a + \\left(k + \\frac{1}{2}\\right)h$, with $k = 0, 1, \\dots, N-1$."
   ]
  },
  {
   "cell_type": "code",
   "execution_count": null,
   "metadata": {},
   "outputs": [],
   "source": [
    "def f(x):\n",
    "    return np.exp(-x**2)\n",
    "\n",
    "# Create an x-axis with 100 points and estimate the function\n",
    "a, b = 0, 3\n",
    "x_plot = np.linspace(a, b, 100)\n",
    "f_plot = f(x_plot)\n",
    "\n",
    "# Create the nodes\n",
    "N = 10\n",
    "h = (b - a) / N\n",
    "x_node = np.linspace(a + 0.5*h, b, N)\n",
    "f_node = f(x_node)\n",
    "\n",
    "# Plot the function\n",
    "fig, ax = plt.subplots(figsize=(5, 3))\n",
    "ax.plot(x_plot, f_plot, 'k-')\n",
    "\n",
    "# Plot the rectangles\n",
    "for k in range(N):\n",
    "    rect = patches.Rectangle((x_node[k] - 0.5*h, 0), h, f_node[k], edgecolor='k')\n",
    "    ax.add_patch(rect)\n",
    "\n",
    "# Plot the nodes\n",
    "ax.plot(x_node, f_node, 'rx')\n",
    "\n",
    "# Label the plots\n",
    "ax.set_xlabel(r'$x$')\n",
    "ax.set_ylabel(r'$f(x)$')\n",
    "ax.set_title('Midpoint rule')\n",
    "\n",
    "plt.show()\n",
    "\n",
    "# Estimate the integral\n",
    "midpoint_I = np.sum(h * f_node)\n",
    "\n",
    "# Exact value\n",
    "I_exact = np.sqrt(np.pi) / 2 * (erf(b) - erf(a))\n",
    "\n",
    "print(f'The exact integral is {I_exact:.3f}.\\n')\n",
    "print(f'The estimated integral using the midpoint rule is {midpoint_I:.3f}.\\n')"
   ]
  },
  {
   "cell_type": "markdown",
   "metadata": {},
   "source": [
    "---\n",
    "🚩 ***Exercise 7:*** Using the midpoint rule method above, estimate the value of the integral using different values of $N$. How does the accuracy change with $N$?"
   ]
  },
  {
   "cell_type": "code",
   "execution_count": null,
   "metadata": {},
   "outputs": [],
   "source": []
  },
  {
   "cell_type": "code",
   "execution_count": null,
   "metadata": {
    "tags": [
     "solution_cell"
    ]
   },
   "outputs": [],
   "source": [
    "%run scripts/show_solutions.py week05_ex7"
   ]
  },
  {
   "cell_type": "markdown",
   "metadata": {},
   "source": [
    "---\n",
    "### 3.3. The trapezoid rule\n",
    "\n",
    "The trapezoid rule also uses partitions of equal width, but instead of approximating the integral as the area of rectangles, it uses trapezoids -- the function is interpolated linearly between the nodes.\n",
    "\n",
    "$$\n",
    "\\int_a^b f(x) \\ dx \\approx \\sum_{k=0}^{N-1} h\\frac{\\left(f(x_k) + f(x_{k+1})\\right)}{2} ,\n",
    "$$\n",
    "\n",
    "where the nodes $x_k$ are given by $x_k = a +kh$, with $k = 0, 1, \\dots, N$."
   ]
  },
  {
   "cell_type": "code",
   "execution_count": null,
   "metadata": {},
   "outputs": [],
   "source": [
    "def f(x):\n",
    "    return np.exp(-x**2)\n",
    "\n",
    "# Create an x-axis with 100 points and estimate the function\n",
    "a, b = 0, 3\n",
    "x_plot = np.linspace(a, b, 100)\n",
    "f_plot = f(x_plot)\n",
    "\n",
    "# Create the nodes\n",
    "N = 6\n",
    "h = (b - a) / N\n",
    "x_node = np.linspace(a, b, N + 1)\n",
    "f_node = f(x_node)\n",
    "\n",
    "# Plot the function\n",
    "fig, ax = plt.subplots(figsize=(5, 3))\n",
    "ax.plot(x_plot, f_plot, 'k-')\n",
    "\n",
    "# Plot the trapezoids\n",
    "for k in range(N):\n",
    "    verts = [[x_node[k], 0], [x_node[k+1], 0],\n",
    "             [x_node[k+1], f_node[k+1]], [x_node[k], f_node[k]]]\n",
    "    trapz = patches.Polygon(verts, h, edgecolor='k')\n",
    "    ax.add_patch(trapz)\n",
    "\n",
    "# Plot the nodes\n",
    "ax.plot(x_node, f_node, 'rx')\n",
    "\n",
    "# Label the plots\n",
    "ax.set_xlabel(r'$x$')\n",
    "ax.set_ylabel(r'$f(x)$')\n",
    "ax.set_title('Trapezoid rule')\n",
    "\n",
    "plt.show()\n",
    "\n",
    "# Estimate the integral\n",
    "midpoint_I = np.sum(0.5 * h * (f_node[:-1] + f_node[1:]))\n",
    "\n",
    "# Exact value\n",
    "I_exact = np.sqrt(np.pi) / 2 * (erf(b) - erf(a))\n",
    "\n",
    "print(f'The exact integral is {I_exact:.3f}.\\n')\n",
    "print(f'The estimated integral using the midpoint rule is {midpoint_I:.3f}.\\n')"
   ]
  },
  {
   "cell_type": "markdown",
   "metadata": {},
   "source": [
    "---\n",
    "🚩 ***Exercise 8:*** Using the trapezoid rule method above, estimate the value of the integral using different values of $N$. How does the accuracy change with $N$?"
   ]
  },
  {
   "cell_type": "code",
   "execution_count": null,
   "metadata": {},
   "outputs": [],
   "source": []
  },
  {
   "cell_type": "code",
   "execution_count": null,
   "metadata": {
    "tags": [
     "solution_cell"
    ]
   },
   "outputs": [],
   "source": [
    "%run scripts/show_solutions.py week05_ex8"
   ]
  }
 ],
 "metadata": {
  "celltoolbar": "Tags",
  "kernelspec": {
   "display_name": "Python 3",
   "language": "python",
   "name": "python3"
  },
  "language_info": {
   "codemirror_mode": {
    "name": "ipython",
    "version": 3
   },
   "file_extension": ".py",
   "mimetype": "text/x-python",
   "name": "python",
   "nbconvert_exporter": "python",
   "pygments_lexer": "ipython3",
   "version": "3.7.6"
  }
 },
 "nbformat": 4,
 "nbformat_minor": 4
}
